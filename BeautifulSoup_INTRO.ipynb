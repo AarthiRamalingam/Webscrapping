{
 "cells": [
  {
   "cell_type": "markdown",
   "metadata": {},
   "source": [
    "# What if you want to collect huge amount of data on your own? There is a way to scrape the details in website using beautiful soup"
   ]
  },
  {
   "cell_type": "code",
   "execution_count": 11,
   "metadata": {},
   "outputs": [],
   "source": [
    "from bs4 import BeautifulSoup"
   ]
  },
  {
   "cell_type": "code",
   "execution_count": 15,
   "metadata": {},
   "outputs": [],
   "source": [
    "import requests\n",
    "URL='https://www.google.com/'\n",
    "#using request module,get function gets provided to access webpage\n",
    "page=requests.get(URL)"
   ]
  },
  {
   "cell_type": "code",
   "execution_count": 18,
   "metadata": {},
   "outputs": [
    {
     "name": "stdout",
     "output_type": "stream",
     "text": [
      "200\n"
     ]
    }
   ],
   "source": [
    "#printing HTTP status code\n",
    "print(page.status_code)"
   ]
  },
  {
   "cell_type": "code",
   "execution_count": 19,
   "metadata": {},
   "outputs": [
    {
     "name": "stdout",
     "output_type": "stream",
     "text": [
      "{'Date': 'Tue, 19 Jan 2021 09:06:53 GMT', 'Expires': '-1', 'Cache-Control': 'private, max-age=0', 'Content-Type': 'text/html; charset=ISO-8859-1', 'P3P': 'CP=\"This is not a P3P policy! See g.co/p3phelp for more info.\"', 'Content-Encoding': 'gzip', 'Server': 'gws', 'X-XSS-Protection': '0', 'X-Frame-Options': 'SAMEORIGIN', 'Set-Cookie': '1P_JAR=2021-01-19-09; expires=Thu, 18-Feb-2021 09:06:53 GMT; path=/; domain=.google.com; Secure, NID=207=LH26LZIHGKztC5rWq9UXykdAyZo6D-eTbvrEvu45iZ67UmONLVEfDrNT6mLxqQsjVbiH3EEwrL3uYL-3IsXWoxQw6hVmWzBbxJjgz42J5DmVuVGMBWQfJQXffrVkbMqoTONx9bj90os-5yv-ar7PeyxARx9PAknltjfChoYBDls; expires=Wed, 21-Jul-2021 09:06:53 GMT; path=/; domain=.google.com; HttpOnly', 'Alt-Svc': 'h3-29=\":443\"; ma=2592000,h3-T051=\":443\"; ma=2592000,h3-Q050=\":443\"; ma=2592000,h3-Q046=\":443\"; ma=2592000,h3-Q043=\":443\"; ma=2592000,quic=\":443\"; ma=2592000; v=\"46,43\"', 'Transfer-Encoding': 'chunked'}\n"
     ]
    }
   ],
   "source": [
    "#printing headers of URL,to verify if we have accessed correct page\n",
    "print(page.headers)"
   ]
  },
  {
   "cell_type": "code",
   "execution_count": 20,
   "metadata": {},
   "outputs": [],
   "source": [
    "#now we will store content of page\n",
    "src=page.content"
   ]
  },
  {
   "cell_type": "code",
   "execution_count": 23,
   "metadata": {},
   "outputs": [],
   "source": [
    "#creating object based on source\n",
    "soup=BeautifulSoup(src,'lxml')"
   ]
  },
  {
   "cell_type": "code",
   "execution_count": 24,
   "metadata": {},
   "outputs": [
    {
     "name": "stdout",
     "output_type": "stream",
     "text": [
      "[<a class=\"gb1\" href=\"https://www.google.co.in/imghp?hl=en&amp;tab=wi\">Images</a>, <a class=\"gb1\" href=\"https://maps.google.co.in/maps?hl=en&amp;tab=wl\">Maps</a>, <a class=\"gb1\" href=\"https://play.google.com/?hl=en&amp;tab=w8\">Play</a>, <a class=\"gb1\" href=\"https://www.youtube.com/?gl=IN&amp;tab=w1\">YouTube</a>, <a class=\"gb1\" href=\"https://news.google.com/?tab=wn\">News</a>, <a class=\"gb1\" href=\"https://mail.google.com/mail/?tab=wm\">Gmail</a>, <a class=\"gb1\" href=\"https://drive.google.com/?tab=wo\">Drive</a>, <a class=\"gb1\" href=\"https://www.google.co.in/intl/en/about/products?tab=wh\" style=\"text-decoration:none\"><u>More</u> »</a>, <a class=\"gb4\" href=\"http://www.google.co.in/history/optout?hl=en\">Web History</a>, <a class=\"gb4\" href=\"/preferences?hl=en\">Settings</a>, <a class=\"gb4\" href=\"https://accounts.google.com/ServiceLogin?hl=en&amp;passive=true&amp;continue=https://www.google.com/&amp;ec=GAZAAQ\" id=\"gb_70\" target=\"_top\">Sign in</a>, <a href=\"/advanced_search?hl=en-IN&amp;authuser=0\">Advanced search</a>, <a href=\"https://www.google.com/setprefs?sig=0_BUy9jkmBSysg2I4INjadEpJS1B8%3D&amp;hl=hi&amp;source=homepage&amp;sa=X&amp;ved=0ahUKEwietoTH0qfuAhXTF3IKHZB5BNcQ2ZgBCAU\">हिन्दी</a>, <a href=\"https://www.google.com/setprefs?sig=0_BUy9jkmBSysg2I4INjadEpJS1B8%3D&amp;hl=bn&amp;source=homepage&amp;sa=X&amp;ved=0ahUKEwietoTH0qfuAhXTF3IKHZB5BNcQ2ZgBCAY\">বাংলা</a>, <a href=\"https://www.google.com/setprefs?sig=0_BUy9jkmBSysg2I4INjadEpJS1B8%3D&amp;hl=te&amp;source=homepage&amp;sa=X&amp;ved=0ahUKEwietoTH0qfuAhXTF3IKHZB5BNcQ2ZgBCAc\">తెలుగు</a>, <a href=\"https://www.google.com/setprefs?sig=0_BUy9jkmBSysg2I4INjadEpJS1B8%3D&amp;hl=mr&amp;source=homepage&amp;sa=X&amp;ved=0ahUKEwietoTH0qfuAhXTF3IKHZB5BNcQ2ZgBCAg\">मराठी</a>, <a href=\"https://www.google.com/setprefs?sig=0_BUy9jkmBSysg2I4INjadEpJS1B8%3D&amp;hl=ta&amp;source=homepage&amp;sa=X&amp;ved=0ahUKEwietoTH0qfuAhXTF3IKHZB5BNcQ2ZgBCAk\">தமிழ்</a>, <a href=\"https://www.google.com/setprefs?sig=0_BUy9jkmBSysg2I4INjadEpJS1B8%3D&amp;hl=gu&amp;source=homepage&amp;sa=X&amp;ved=0ahUKEwietoTH0qfuAhXTF3IKHZB5BNcQ2ZgBCAo\">ગુજરાતી</a>, <a href=\"https://www.google.com/setprefs?sig=0_BUy9jkmBSysg2I4INjadEpJS1B8%3D&amp;hl=kn&amp;source=homepage&amp;sa=X&amp;ved=0ahUKEwietoTH0qfuAhXTF3IKHZB5BNcQ2ZgBCAs\">ಕನ್ನಡ</a>, <a href=\"https://www.google.com/setprefs?sig=0_BUy9jkmBSysg2I4INjadEpJS1B8%3D&amp;hl=ml&amp;source=homepage&amp;sa=X&amp;ved=0ahUKEwietoTH0qfuAhXTF3IKHZB5BNcQ2ZgBCAw\">മലയാളം</a>, <a href=\"https://www.google.com/setprefs?sig=0_BUy9jkmBSysg2I4INjadEpJS1B8%3D&amp;hl=pa&amp;source=homepage&amp;sa=X&amp;ved=0ahUKEwietoTH0qfuAhXTF3IKHZB5BNcQ2ZgBCA0\">ਪੰਜਾਬੀ</a>, <a href=\"/intl/en/ads/\">Advertising Programs</a>, <a href=\"http://www.google.co.in/services/\">Business Solutions</a>, <a href=\"/intl/en/about.html\">About Google</a>, <a href=\"https://www.google.com/setprefdomain?prefdom=IN&amp;prev=https://www.google.co.in/&amp;sig=K_vIh-7BIEPXrH5sissNdsn7EgNY4%3D\">Google.co.in</a>, <a href=\"/intl/en/policies/privacy/\">Privacy</a>, <a href=\"/intl/en/policies/terms/\">Terms</a>]\n"
     ]
    }
   ],
   "source": [
    "#find all \"a\" tags to this page\n",
    "links=soup.find_all(\"a\")\n",
    "print(links)"
   ]
  },
  {
   "cell_type": "code",
   "execution_count": 25,
   "metadata": {},
   "outputs": [
    {
     "name": "stdout",
     "output_type": "stream",
     "text": [
      "<a href=\"/intl/en/about.html\">About Google</a>\n",
      "/intl/en/about.html\n"
     ]
    }
   ],
   "source": [
    "for link in links:\n",
    "    if \"About\" in link.text:\n",
    "        print(link)\n",
    "        print(link.attrs['href'])"
   ]
  },
  {
   "cell_type": "code",
   "execution_count": 26,
   "metadata": {},
   "outputs": [
    {
     "name": "stdout",
     "output_type": "stream",
     "text": [
      "<b class=\"gb1\">Search</b>\n"
     ]
    }
   ],
   "source": [
    "#first occurence of b tag\n",
    "print(soup.b)"
   ]
  },
  {
   "cell_type": "code",
   "execution_count": 27,
   "metadata": {},
   "outputs": [
    {
     "name": "stdout",
     "output_type": "stream",
     "text": [
      "[<b class=\"gb1\">Search</b>]\n"
     ]
    }
   ],
   "source": [
    "#to find all b tags\n",
    "print(soup.find_all('b'))"
   ]
  },
  {
   "cell_type": "code",
   "execution_count": 29,
   "metadata": {},
   "outputs": [
    {
     "name": "stdout",
     "output_type": "stream",
     "text": [
      "b\n"
     ]
    }
   ],
   "source": [
    "#it gives name to the tag as b\n",
    "print(soup.b.name)"
   ]
  },
  {
   "cell_type": "code",
   "execution_count": 33,
   "metadata": {},
   "outputs": [],
   "source": [
    "import requests\n",
    "URL='https://en.wikipedia.org/wiki/Outline_of_machine_learning'\n",
    "page=requests.get(URL)"
   ]
  },
  {
   "cell_type": "code",
   "execution_count": 34,
   "metadata": {},
   "outputs": [
    {
     "data": {
      "text/plain": [
       "<Response [200]>"
      ]
     },
     "execution_count": 34,
     "metadata": {},
     "output_type": "execute_result"
    }
   ],
   "source": [
    "page"
   ]
  },
  {
   "cell_type": "code",
   "execution_count": 35,
   "metadata": {},
   "outputs": [],
   "source": [
    "src=page.content"
   ]
  },
  {
   "cell_type": "code",
   "execution_count": 38,
   "metadata": {},
   "outputs": [
    {
     "name": "stdout",
     "output_type": "stream",
     "text": [
      "[]\n",
      "['/w/index.php?title=Outline_of_machine_learning&action=edit&section=1']\n",
      "['/w/index.php?title=Outline_of_machine_learning&action=edit&section=1', '/w/index.php?title=Outline_of_machine_learning&action=edit&section=2']\n",
      "['/w/index.php?title=Outline_of_machine_learning&action=edit&section=1', '/w/index.php?title=Outline_of_machine_learning&action=edit&section=2', '/w/index.php?title=Outline_of_machine_learning&action=edit&section=5']\n",
      "['/w/index.php?title=Outline_of_machine_learning&action=edit&section=1', '/w/index.php?title=Outline_of_machine_learning&action=edit&section=2', '/w/index.php?title=Outline_of_machine_learning&action=edit&section=5', '/w/index.php?title=Outline_of_machine_learning&action=edit&section=6']\n",
      "['/w/index.php?title=Outline_of_machine_learning&action=edit&section=1', '/w/index.php?title=Outline_of_machine_learning&action=edit&section=2', '/w/index.php?title=Outline_of_machine_learning&action=edit&section=5', '/w/index.php?title=Outline_of_machine_learning&action=edit&section=6', '/w/index.php?title=Outline_of_machine_learning&action=edit&section=7']\n",
      "['/w/index.php?title=Outline_of_machine_learning&action=edit&section=1', '/w/index.php?title=Outline_of_machine_learning&action=edit&section=2', '/w/index.php?title=Outline_of_machine_learning&action=edit&section=5', '/w/index.php?title=Outline_of_machine_learning&action=edit&section=6', '/w/index.php?title=Outline_of_machine_learning&action=edit&section=7', '/w/index.php?title=Outline_of_machine_learning&action=edit&section=14']\n",
      "['/w/index.php?title=Outline_of_machine_learning&action=edit&section=1', '/w/index.php?title=Outline_of_machine_learning&action=edit&section=2', '/w/index.php?title=Outline_of_machine_learning&action=edit&section=5', '/w/index.php?title=Outline_of_machine_learning&action=edit&section=6', '/w/index.php?title=Outline_of_machine_learning&action=edit&section=7', '/w/index.php?title=Outline_of_machine_learning&action=edit&section=14', '/w/index.php?title=Outline_of_machine_learning&action=edit&section=34']\n",
      "['/w/index.php?title=Outline_of_machine_learning&action=edit&section=1', '/w/index.php?title=Outline_of_machine_learning&action=edit&section=2', '/w/index.php?title=Outline_of_machine_learning&action=edit&section=5', '/w/index.php?title=Outline_of_machine_learning&action=edit&section=6', '/w/index.php?title=Outline_of_machine_learning&action=edit&section=7', '/w/index.php?title=Outline_of_machine_learning&action=edit&section=14', '/w/index.php?title=Outline_of_machine_learning&action=edit&section=34', '/w/index.php?title=Outline_of_machine_learning&action=edit&section=35']\n",
      "['/w/index.php?title=Outline_of_machine_learning&action=edit&section=1', '/w/index.php?title=Outline_of_machine_learning&action=edit&section=2', '/w/index.php?title=Outline_of_machine_learning&action=edit&section=5', '/w/index.php?title=Outline_of_machine_learning&action=edit&section=6', '/w/index.php?title=Outline_of_machine_learning&action=edit&section=7', '/w/index.php?title=Outline_of_machine_learning&action=edit&section=14', '/w/index.php?title=Outline_of_machine_learning&action=edit&section=34', '/w/index.php?title=Outline_of_machine_learning&action=edit&section=35', '/w/index.php?title=Outline_of_machine_learning&action=edit&section=36']\n",
      "['/w/index.php?title=Outline_of_machine_learning&action=edit&section=1', '/w/index.php?title=Outline_of_machine_learning&action=edit&section=2', '/w/index.php?title=Outline_of_machine_learning&action=edit&section=5', '/w/index.php?title=Outline_of_machine_learning&action=edit&section=6', '/w/index.php?title=Outline_of_machine_learning&action=edit&section=7', '/w/index.php?title=Outline_of_machine_learning&action=edit&section=14', '/w/index.php?title=Outline_of_machine_learning&action=edit&section=34', '/w/index.php?title=Outline_of_machine_learning&action=edit&section=35', '/w/index.php?title=Outline_of_machine_learning&action=edit&section=36', '/w/index.php?title=Outline_of_machine_learning&action=edit&section=37']\n",
      "['/w/index.php?title=Outline_of_machine_learning&action=edit&section=1', '/w/index.php?title=Outline_of_machine_learning&action=edit&section=2', '/w/index.php?title=Outline_of_machine_learning&action=edit&section=5', '/w/index.php?title=Outline_of_machine_learning&action=edit&section=6', '/w/index.php?title=Outline_of_machine_learning&action=edit&section=7', '/w/index.php?title=Outline_of_machine_learning&action=edit&section=14', '/w/index.php?title=Outline_of_machine_learning&action=edit&section=34', '/w/index.php?title=Outline_of_machine_learning&action=edit&section=35', '/w/index.php?title=Outline_of_machine_learning&action=edit&section=36', '/w/index.php?title=Outline_of_machine_learning&action=edit&section=37', '/w/index.php?title=Outline_of_machine_learning&action=edit&section=39']\n",
      "['/w/index.php?title=Outline_of_machine_learning&action=edit&section=1', '/w/index.php?title=Outline_of_machine_learning&action=edit&section=2', '/w/index.php?title=Outline_of_machine_learning&action=edit&section=5', '/w/index.php?title=Outline_of_machine_learning&action=edit&section=6', '/w/index.php?title=Outline_of_machine_learning&action=edit&section=7', '/w/index.php?title=Outline_of_machine_learning&action=edit&section=14', '/w/index.php?title=Outline_of_machine_learning&action=edit&section=34', '/w/index.php?title=Outline_of_machine_learning&action=edit&section=35', '/w/index.php?title=Outline_of_machine_learning&action=edit&section=36', '/w/index.php?title=Outline_of_machine_learning&action=edit&section=37', '/w/index.php?title=Outline_of_machine_learning&action=edit&section=39', '/w/index.php?title=Outline_of_machine_learning&action=edit&section=42']\n",
      "['/w/index.php?title=Outline_of_machine_learning&action=edit&section=1', '/w/index.php?title=Outline_of_machine_learning&action=edit&section=2', '/w/index.php?title=Outline_of_machine_learning&action=edit&section=5', '/w/index.php?title=Outline_of_machine_learning&action=edit&section=6', '/w/index.php?title=Outline_of_machine_learning&action=edit&section=7', '/w/index.php?title=Outline_of_machine_learning&action=edit&section=14', '/w/index.php?title=Outline_of_machine_learning&action=edit&section=34', '/w/index.php?title=Outline_of_machine_learning&action=edit&section=35', '/w/index.php?title=Outline_of_machine_learning&action=edit&section=36', '/w/index.php?title=Outline_of_machine_learning&action=edit&section=37', '/w/index.php?title=Outline_of_machine_learning&action=edit&section=39', '/w/index.php?title=Outline_of_machine_learning&action=edit&section=42', '/w/index.php?title=Outline_of_machine_learning&action=edit&section=43']\n",
      "['/w/index.php?title=Outline_of_machine_learning&action=edit&section=1', '/w/index.php?title=Outline_of_machine_learning&action=edit&section=2', '/w/index.php?title=Outline_of_machine_learning&action=edit&section=5', '/w/index.php?title=Outline_of_machine_learning&action=edit&section=6', '/w/index.php?title=Outline_of_machine_learning&action=edit&section=7', '/w/index.php?title=Outline_of_machine_learning&action=edit&section=14', '/w/index.php?title=Outline_of_machine_learning&action=edit&section=34', '/w/index.php?title=Outline_of_machine_learning&action=edit&section=35', '/w/index.php?title=Outline_of_machine_learning&action=edit&section=36', '/w/index.php?title=Outline_of_machine_learning&action=edit&section=37', '/w/index.php?title=Outline_of_machine_learning&action=edit&section=39', '/w/index.php?title=Outline_of_machine_learning&action=edit&section=42', '/w/index.php?title=Outline_of_machine_learning&action=edit&section=43', '/w/index.php?title=Outline_of_machine_learning&action=edit&section=45']\n",
      "['/w/index.php?title=Outline_of_machine_learning&action=edit&section=1', '/w/index.php?title=Outline_of_machine_learning&action=edit&section=2', '/w/index.php?title=Outline_of_machine_learning&action=edit&section=5', '/w/index.php?title=Outline_of_machine_learning&action=edit&section=6', '/w/index.php?title=Outline_of_machine_learning&action=edit&section=7', '/w/index.php?title=Outline_of_machine_learning&action=edit&section=14', '/w/index.php?title=Outline_of_machine_learning&action=edit&section=34', '/w/index.php?title=Outline_of_machine_learning&action=edit&section=35', '/w/index.php?title=Outline_of_machine_learning&action=edit&section=36', '/w/index.php?title=Outline_of_machine_learning&action=edit&section=37', '/w/index.php?title=Outline_of_machine_learning&action=edit&section=39', '/w/index.php?title=Outline_of_machine_learning&action=edit&section=42', '/w/index.php?title=Outline_of_machine_learning&action=edit&section=43', '/w/index.php?title=Outline_of_machine_learning&action=edit&section=45', '/w/index.php?title=Outline_of_machine_learning&action=edit&section=46']\n",
      "['/w/index.php?title=Outline_of_machine_learning&action=edit&section=1', '/w/index.php?title=Outline_of_machine_learning&action=edit&section=2', '/w/index.php?title=Outline_of_machine_learning&action=edit&section=5', '/w/index.php?title=Outline_of_machine_learning&action=edit&section=6', '/w/index.php?title=Outline_of_machine_learning&action=edit&section=7', '/w/index.php?title=Outline_of_machine_learning&action=edit&section=14', '/w/index.php?title=Outline_of_machine_learning&action=edit&section=34', '/w/index.php?title=Outline_of_machine_learning&action=edit&section=35', '/w/index.php?title=Outline_of_machine_learning&action=edit&section=36', '/w/index.php?title=Outline_of_machine_learning&action=edit&section=37', '/w/index.php?title=Outline_of_machine_learning&action=edit&section=39', '/w/index.php?title=Outline_of_machine_learning&action=edit&section=42', '/w/index.php?title=Outline_of_machine_learning&action=edit&section=43', '/w/index.php?title=Outline_of_machine_learning&action=edit&section=45', '/w/index.php?title=Outline_of_machine_learning&action=edit&section=46', '/w/index.php?title=Outline_of_machine_learning&action=edit&section=47']\n",
      "['/w/index.php?title=Outline_of_machine_learning&action=edit&section=1', '/w/index.php?title=Outline_of_machine_learning&action=edit&section=2', '/w/index.php?title=Outline_of_machine_learning&action=edit&section=5', '/w/index.php?title=Outline_of_machine_learning&action=edit&section=6', '/w/index.php?title=Outline_of_machine_learning&action=edit&section=7', '/w/index.php?title=Outline_of_machine_learning&action=edit&section=14', '/w/index.php?title=Outline_of_machine_learning&action=edit&section=34', '/w/index.php?title=Outline_of_machine_learning&action=edit&section=35', '/w/index.php?title=Outline_of_machine_learning&action=edit&section=36', '/w/index.php?title=Outline_of_machine_learning&action=edit&section=37', '/w/index.php?title=Outline_of_machine_learning&action=edit&section=39', '/w/index.php?title=Outline_of_machine_learning&action=edit&section=42', '/w/index.php?title=Outline_of_machine_learning&action=edit&section=43', '/w/index.php?title=Outline_of_machine_learning&action=edit&section=45', '/w/index.php?title=Outline_of_machine_learning&action=edit&section=46', '/w/index.php?title=Outline_of_machine_learning&action=edit&section=47']\n"
     ]
    }
   ],
   "source": [
    "soup = BeautifulSoup(src,'lxml')\n",
    "#to retrieve links\n",
    "urls = []\n",
    "for h2_tag in soup.find_all('h2'):\n",
    "    a_tag = h2_tag.find('a')\n",
    "    if a_tag is not None and 'href' in a_tag.attrs:\n",
    "        urls.append(a_tag.attrs['href'])\n",
    "\n",
    "    print(urls)"
   ]
  },
  {
   "cell_type": "code",
   "execution_count": null,
   "metadata": {},
   "outputs": [],
   "source": []
  }
 ],
 "metadata": {
  "kernelspec": {
   "display_name": "Python 3",
   "language": "python",
   "name": "python3"
  },
  "language_info": {
   "codemirror_mode": {
    "name": "ipython",
    "version": 3
   },
   "file_extension": ".py",
   "mimetype": "text/x-python",
   "name": "python",
   "nbconvert_exporter": "python",
   "pygments_lexer": "ipython3",
   "version": "3.7.6"
  }
 },
 "nbformat": 4,
 "nbformat_minor": 4
}
